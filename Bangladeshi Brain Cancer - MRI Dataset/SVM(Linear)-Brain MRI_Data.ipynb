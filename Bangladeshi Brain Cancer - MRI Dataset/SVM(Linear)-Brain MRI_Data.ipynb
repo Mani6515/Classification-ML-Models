{
 "cells": [
  {
   "cell_type": "code",
   "execution_count": 1,
   "id": "bdd1df18",
   "metadata": {},
   "outputs": [],
   "source": [
    "import pandas as pd\n",
    "import numpy as np\n",
    "from sklearn.svm import SVC\n",
    "from sklearn.preprocessing import LabelEncoder,OneHotEncoder,OrdinalEncoder,StandardScaler\n",
    "from sklearn.metrics import confusion_matrix, ConfusionMatrixDisplay, accuracy_score, precision_score, recall_score, f1_score, roc_curve, precision_recall_curve\n",
    "from sklearn.model_selection import train_test_split\n",
    "from sklearn.metrics import roc_curve, roc_auc_score\n",
    "import matplotlib.pyplot as plt\n",
    "import seaborn as sns\n",
    "from sklearn.pipeline import Pipeline\n",
    "from sklearn.compose import ColumnTransformer\n",
    "from sklearn.impute import SimpleImputer\n",
    "from sklearn.base import BaseEstimator,TransformerMixin\n",
    "from sklearn.discriminant_analysis import LinearDiscriminantAnalysis\n",
    "from PIL import Image\n",
    "import os\n",
    "from sklearn import tree\n",
    "\n"
   ]
  },
  {
   "cell_type": "code",
   "execution_count": 2,
   "id": "b329ed50",
   "metadata": {},
   "outputs": [],
   "source": [
    "image_size=(128,128)\n",
    "data_dir_aug=\"Brain MRI\\\\Augmented Data\"\n",
    "data_dir_raw=\"Brain MRI\\\\Raw Data\\\\Raw\"\n",
    "catgories=[\"Glioma\",\"Meningioma\",\"Normal\",\"Pituitary\"]\n",
    "X=[]\n",
    "y=[]"
   ]
  },
  {
   "cell_type": "code",
   "execution_count": 3,
   "id": "46686dd8",
   "metadata": {},
   "outputs": [],
   "source": [
    "for lable,cetagory in enumerate(catgories):\n",
    "    folder=os.path.join(data_dir_raw,cetagory)\n",
    "    for filname in os.listdir(folder):\n",
    "        try:\n",
    "            img_path=os.path.join(folder,filname)\n",
    "            img=Image.open(img_path).convert(\"L\")    # Convert to grayscale\n",
    "            img=img.resize(image_size)\n",
    "            image_array=np.array(img).flatten()/255\n",
    "            \n",
    "            X.append(image_array)\n",
    "            y.append(lable)\n",
    "        except Exception as e:\n",
    "            print(f\"erorr loading{filname}: {e}\")"
   ]
  },
  {
   "cell_type": "code",
   "execution_count": 4,
   "id": "70471a52",
   "metadata": {},
   "outputs": [
    {
     "data": {
      "text/plain": [
       "1505"
      ]
     },
     "execution_count": 4,
     "metadata": {},
     "output_type": "execute_result"
    }
   ],
   "source": [
    "len(X)"
   ]
  },
  {
   "cell_type": "code",
   "execution_count": 5,
   "id": "33b925d3",
   "metadata": {},
   "outputs": [],
   "source": [
    "train_x,test_x,train_y,test_y=train_test_split(X,y,test_size=0.2,random_state=42)"
   ]
  },
  {
   "cell_type": "code",
   "execution_count": 10,
   "id": "e44f2012",
   "metadata": {},
   "outputs": [],
   "source": [
    "svm_mdl=SVC(kernel=\"linear\",C=1.0)"
   ]
  },
  {
   "cell_type": "code",
   "execution_count": null,
   "id": "278dabb3",
   "metadata": {},
   "outputs": [],
   "source": [
    "svm_mdl.fit(train_x,train_y)"
   ]
  },
  {
   "cell_type": "code",
   "execution_count": null,
   "id": "d7f1d712",
   "metadata": {},
   "outputs": [
    {
     "data": {
      "text/plain": [
       "0.813953488372093"
      ]
     },
     "execution_count": 8,
     "metadata": {},
     "output_type": "execute_result"
    }
   ],
   "source": [
    "svm_mdl.score(test_x,test_y)"
   ]
  },
  {
   "cell_type": "markdown",
   "id": "51a09de2",
   "metadata": {},
   "source": [
    "## Test score of model by varing the value of C in model\n",
    "| Value of C  | Karnel    | test score    |\n",
    "|---------    |-----      |----------|\n",
    "| 1           | Linear    | 0.81395  |\n",
    "| 2.0         | Linear    | 0.8139   |\n"
   ]
  }
 ],
 "metadata": {
  "kernelspec": {
   "display_name": "base",
   "language": "python",
   "name": "python3"
  },
  "language_info": {
   "codemirror_mode": {
    "name": "ipython",
    "version": 3
   },
   "file_extension": ".py",
   "mimetype": "text/x-python",
   "name": "python",
   "nbconvert_exporter": "python",
   "pygments_lexer": "ipython3",
   "version": "3.13.2"
  }
 },
 "nbformat": 4,
 "nbformat_minor": 5
}
