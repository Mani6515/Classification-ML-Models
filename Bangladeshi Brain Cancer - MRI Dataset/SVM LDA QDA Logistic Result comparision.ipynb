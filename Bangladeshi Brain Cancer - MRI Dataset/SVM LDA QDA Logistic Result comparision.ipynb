{
 "cells": [
  {
   "cell_type": "markdown",
   "id": "b80b3115",
   "metadata": {},
   "source": [
    "| Model                        | True Class | Predicted Glioma | Predicted Meningioma | Predicted Normal | Predicted Pituitary |\n",
    "|------------------------------|------------|-------------------|----------------------|------------------|---------------------|\n",
    "| Logistic Regression (Test)   | Glioma     | 58                | 11                   | 1                | 4                   |\n",
    "|                              | Meningioma | 11                | 49                   | 4                | 7                   |\n",
    "|                              | Normal     | 5                 | 5                    | 70               | 3                   |\n",
    "|                              | Pituitary  | 3                 | 0                    | 4                | 66                  |\n",
    "| SVM (RBF Kernel, C=5.0, Train)| Glioma    | 298               | 1                    | 0                | 0                   |\n",
    "|                              | Meningioma | 0                 | 292                  | 0                | 0                   |\n",
    "|                              | Normal     | 1                 | 0                    | 312              | 0                   |\n",
    "|                              | Pituitary  | 0                 | 0                    | 0                | 300                 |\n",
    "| SVM (RBF Kernel, C=5.0, Test Score) | **Accuracy** | **0.9037 (90.37%)** |                      |                  |                     |\n",
    "| SVM (Poly Kernel, C=2.0, Test)| Glioma    | 62                | 4                    | 1                | 7                   |\n",
    "|                              | Meningioma | 10                | 52                   | 4                | 5                   |\n",
    "|                              | Normal     | 7                 | 7                    | 65               | 4                   |\n",
    "|                              | Pituitary  | 2                 | 0                    | 1                | 70                  |\n"
   ]
  }
 ],
 "metadata": {
  "language_info": {
   "name": "python"
  }
 },
 "nbformat": 4,
 "nbformat_minor": 5
}
